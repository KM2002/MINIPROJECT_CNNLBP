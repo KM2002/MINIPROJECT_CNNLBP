{
 "cells": [
  {
   "cell_type": "code",
   "execution_count": 45,
   "id": "ac885e7a",
   "metadata": {},
   "outputs": [
    {
     "name": "stdout",
     "output_type": "stream",
     "text": [
      "/Users/khushm/Documents/GitHub/MINIPROJECT_CNNLBP/trainingcnn/train\n"
     ]
    },
    {
     "name": "stderr",
     "output_type": "stream",
     "text": [
      "/var/folders/m5/g2s2vm2d69s8qfj5cc66mryw0000gn/T/ipykernel_1876/2080965337.py:53: DeprecationWarning: `np.int` is a deprecated alias for the builtin `int`. To silence this warning, use `int` by itself. Doing this will not modify any behavior and is safe. When replacing `np.int`, you may wish to use e.g. `np.int64` or `np.int32` to specify the precision. If you wish to review your current use, check the release note link for additional information.\n",
      "Deprecated in NumPy 1.20; for more details and guidance: https://numpy.org/devdocs/release/1.20.0-notes.html#deprecations\n",
      "  value = np.asarray(img_grey.getdata(), dtype=np.int).reshape((img_grey.size[1], img_grey.size[0]))\n"
     ]
    },
    {
     "name": "stdout",
     "output_type": "stream",
     "text": [
      "Training complete\n"
     ]
    }
   ],
   "source": [
    "from PIL import Image\n",
    "import numpy as np\n",
    "import sys\n",
    "import os\n",
    "import csv\n",
    "\n",
    "def labels_pixels(size,x):\n",
    "    rows=[]\n",
    "    f = open(f\"/Users/khushm/Documents/GitHub/MINIPROJECT_CNNLBP/trainingcnn/{x}.csv\", \"w\")\n",
    "    f.truncate()\n",
    "    f.close()\n",
    "    \n",
    "    with open(f'/Users/khushm/Documents/GitHub/MINIPROJECT_CNNLBP/trainingcnn/{x}.csv', 'a') as f:\n",
    "        f = csv.writer(f, delimiter=',', quotechar='\"', quoting=csv.QUOTE_MINIMAL)\n",
    "        if x=='train':\n",
    "            rows.append(\"Labels\")\n",
    "        for i in range(size):\n",
    "            rows.append(f'pixels{i}')   \n",
    "        f.writerow(rows)\n",
    "\n",
    "# default format can be changed as needed\n",
    "def createFileList(myDir, format='.png'):\n",
    "    fileList = []\n",
    "    print(myDir)\n",
    "    for root, dirs, files in os.walk(myDir, topdown=False):\n",
    "        for name in files:\n",
    "            if name.endswith(format):\n",
    "                fullName = os.path.join(root, name)\n",
    "                fileList.append(fullName)\n",
    "    return fileList\n",
    "\n",
    "# load the original image\n",
    "myFileList = createFileList('/Users/khushm/Documents/GitHub/MINIPROJECT_CNNLBP/trainingcnn/train')\n",
    "labels_pixels(2304,'train')\n",
    "y=0\n",
    "for file in myFileList:\n",
    "    img_file = Image.open(file)\n",
    "    # img_file.show()\n",
    "\n",
    "    # get original image parameters...\n",
    "    width, height = img_file.size\n",
    "    format = img_file.format\n",
    "    mode = img_file.mode\n",
    "\n",
    "    # Make image Greyscale\n",
    "    img_grey = img_file.convert('L')\n",
    "    #img_grey.save('result.png')\n",
    "    #img_grey.show()\n",
    "    \n",
    "    # Save Greyscale values\n",
    "    value = np.asarray(img_grey.getdata(), dtype=np.int).reshape((img_grey.size[1], img_grey.size[0]))\n",
    "    value = list(value.flatten())\n",
    "    path=os.path.basename(os.path.dirname(file))\n",
    "    if path=='happy':\n",
    "        value.insert(0,0)\n",
    "    if path=='sad':\n",
    "        value.insert(0,1)\n",
    "    if path=='fearful':\n",
    "        value.insert(0,2)\n",
    "    if path=='neutral':\n",
    "        value.insert(0,3)\n",
    "    if path=='angry':\n",
    "        value.insert(0,4)\n",
    "    if path=='disgusted':\n",
    "        value.insert(0,5)\n",
    "    if path=='surprised':\n",
    "        value.insert(0,6)\n",
    "        \n",
    "    with open(\"/Users/khushm/Documents/GitHub/MINIPROJECT_CNNLBP/trainingcnn/train.csv\", 'a') as f:\n",
    "        writer = csv.writer(f)\n",
    "        writer.writerow(value)\n",
    "\n",
    "file_name='/Users/khushm/Documents/GitHub/MINIPROJECT_CNNLBP/trainingcnn/train.csv'      \n",
    "df = pd.read_csv(file_name) # avoid header=None. \n",
    "shuffled_df = df.sample(frac=1)\n",
    "shuffled_df.to_csv(file_name, index=False)\n",
    "\n",
    "print(\"Training complete\")"
   ]
  },
  {
   "cell_type": "code",
   "execution_count": 46,
   "id": "264e9a10",
   "metadata": {},
   "outputs": [
    {
     "name": "stdout",
     "output_type": "stream",
     "text": [
      "/Users/khushm/Documents/GitHub/MINIPROJECT_CNNLBP/trainingcnn/test\n"
     ]
    },
    {
     "name": "stderr",
     "output_type": "stream",
     "text": [
      "/var/folders/m5/g2s2vm2d69s8qfj5cc66mryw0000gn/T/ipykernel_1876/1387740205.py:52: DeprecationWarning: `np.int` is a deprecated alias for the builtin `int`. To silence this warning, use `int` by itself. Doing this will not modify any behavior and is safe. When replacing `np.int`, you may wish to use e.g. `np.int64` or `np.int32` to specify the precision. If you wish to review your current use, check the release note link for additional information.\n",
      "Deprecated in NumPy 1.20; for more details and guidance: https://numpy.org/devdocs/release/1.20.0-notes.html#deprecations\n",
      "  value = np.asarray(img_grey.getdata(), dtype=np.int).reshape((img_grey.size[1], img_grey.size[0]))\n"
     ]
    },
    {
     "name": "stdout",
     "output_type": "stream",
     "text": [
      "Testing complete\n"
     ]
    }
   ],
   "source": [
    "from PIL import Image\n",
    "import numpy as np\n",
    "import sys\n",
    "import os\n",
    "import csv\n",
    "\n",
    "\n",
    "def labels_pixels(size,x):\n",
    "    rows=[]\n",
    "    f = open(f\"/Users/khushm/Documents/GitHub/MINIPROJECT_CNNLBP/trainingcnn/{x}.csv\", \"w\")\n",
    "    f.truncate()\n",
    "    f.close()\n",
    "    \n",
    "    with open(f'/Users/khushm/Documents/GitHub/MINIPROJECT_CNNLBP/trainingcnn/{x}.csv', 'a') as f:\n",
    "        f = csv.writer(f, delimiter=',', quotechar='\"', quoting=csv.QUOTE_MINIMAL)\n",
    "        if x=='train':\n",
    "            rows.append(\"Labels\")\n",
    "        for i in range(size):\n",
    "            rows.append(f'pixels{i}')   \n",
    "        f.writerow(rows)\n",
    "\n",
    "# default format can be changed as needed\n",
    "def createFileList(myDir, format='.png'):\n",
    "    fileList = []\n",
    "    print(myDir)\n",
    "    for root, dirs, files in os.walk(myDir, topdown=False):\n",
    "        for name in files:\n",
    "            if name.endswith(format):\n",
    "                fullName = os.path.join(root, name)\n",
    "                fileList.append(fullName)\n",
    "    return fileList\n",
    "\n",
    "# load the original image\n",
    "myFileList = createFileList('/Users/khushm/Documents/GitHub/MINIPROJECT_CNNLBP/trainingcnn/test')\n",
    "labels_pixels(2304,'test')\n",
    "y=0\n",
    "for file in myFileList:\n",
    "    img_file = Image.open(file)\n",
    "    # img_file.show()\n",
    "\n",
    "    # get original image parameters...\n",
    "    width, height = img_file.size\n",
    "    format = img_file.format\n",
    "    mode = img_file.mode\n",
    "\n",
    "    # Make image Greyscale\n",
    "    img_grey = img_file.convert('L')\n",
    "    #img_grey.save('result.png')\n",
    "    #img_grey.show()\n",
    "    \n",
    "    # Save Greyscale values\n",
    "    value = np.asarray(img_grey.getdata(), dtype=np.int).reshape((img_grey.size[1], img_grey.size[0]))\n",
    "    value = list(value.flatten())\n",
    "    with open(\"/Users/khushm/Documents/GitHub/MINIPROJECT_CNNLBP/trainingcnn/test.csv\", 'a') as f:\n",
    "        writer = csv.writer(f)\n",
    "        writer.writerow(value)\n",
    "        \n",
    "file_name='/Users/khushm/Documents/GitHub/MINIPROJECT_CNNLBP/trainingcnn/test.csv'      \n",
    "df = pd.read_csv(file_name) # avoid header=None. \n",
    "shuffled_df = df.sample(frac=1)\n",
    "shuffled_df.to_csv(file_name, index=False)\n",
    "\n",
    "print(\"Testing complete\")"
   ]
  },
  {
   "cell_type": "code",
   "execution_count": null,
   "id": "1793dbc3",
   "metadata": {},
   "outputs": [],
   "source": []
  }
 ],
 "metadata": {
  "kernelspec": {
   "display_name": "Python 3 (ipykernel)",
   "language": "python",
   "name": "python3"
  },
  "language_info": {
   "codemirror_mode": {
    "name": "ipython",
    "version": 3
   },
   "file_extension": ".py",
   "mimetype": "text/x-python",
   "name": "python",
   "nbconvert_exporter": "python",
   "pygments_lexer": "ipython3",
   "version": "3.10.9"
  }
 },
 "nbformat": 4,
 "nbformat_minor": 5
}
